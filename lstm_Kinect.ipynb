{
 "cells": [
  {
   "cell_type": "code",
   "execution_count": 1,
   "source": [
    "%matplotlib inline\r\n",
    "import numpy as np"
   ],
   "outputs": [],
   "metadata": {}
  },
  {
   "cell_type": "markdown",
   "source": [
    "### Data Loading "
   ],
   "metadata": {}
  },
  {
   "cell_type": "code",
   "execution_count": 2,
   "source": [
    "# Useful Constants\r\n",
    "# Output classes to learn how to classify\r\n",
    "LABELS = [    \r\n",
    "    \"JUMPING\",\r\n",
    "    \"JUMPING_JACKS\",\r\n",
    "    \"BOXING\",\r\n",
    "    \"WAVING_2HANDS\",\r\n",
    "    \"WAVING_1HAND\",\r\n",
    "    \"CLAPPING_HANDS\"\r\n",
    "\r\n",
    "] \r\n",
    "DATASET_PATH = \"data/HAR_pose_activities/database/\"\r\n",
    "\r\n",
    "X_train_path = DATASET_PATH + \"X_train.txt\"\r\n",
    "X_test_path = DATASET_PATH + \"X_test.txt\"\r\n",
    "\r\n",
    "y_train_path = DATASET_PATH + \"Y_train.txt\"\r\n",
    "y_test_path = DATASET_PATH + \"Y_test.txt\"\r\n",
    "\r\n",
    "n_steps = 32 # 32 timesteps per series\r\n",
    "n_categories = len(LABELS)"
   ],
   "outputs": [],
   "metadata": {}
  },
  {
   "cell_type": "code",
   "execution_count": 3,
   "source": [
    "# Load the kinect joints and arrange in increasing order \r\n",
    "def read_from_file(folderName):\r\n",
    "        fileJoints = 'D:/UBC_Coursework/Term2/571T/Project/Kinect/RGB/joints/'+ folderName +'.txt'\r\n",
    "        with open(fileJoints, 'r') as f:\r\n",
    "                data = f.read()\r\n",
    "        data = data.split('\\n')\r\n",
    "        data = data[:-1]\r\n",
    "        data = [np.fromstring(d, sep=' ') for d in data]\r\n",
    "        data = np.array(data)\r\n",
    "        #print(data)\r\n",
    "        new_data = data[data[:, 0].argsort()]\r\n",
    "        return new_data\r\n",
    "        #data = data[:, 1:] ### remove the first column\r\n",
    "        #print(len(data))\r\n",
    "        #len(new_data)\r\n",
    "        #new_data[0][0]"
   ],
   "outputs": [],
   "metadata": {}
  },
  {
   "cell_type": "code",
   "execution_count": 4,
   "source": [
    "fileLabel = 'D:/UBC_Coursework/Term2/571T/Project/Kinect/RGB/ActionLabels.txt'\r\n",
    "fileY = 'D:/UBC_Coursework/Term2/571T/Project/HAR/LSTM-Pytorch/data/HAR_pose_activities/database_kinect/Y_train.txt'\r\n",
    "\r\n",
    "action = [    \r\n",
    "    \"walk:\",\r\n",
    "    \"sitDown:\",\r\n",
    "    \"standUp:\",\r\n",
    "    \"pickUp:\",\r\n",
    "    \"carry:\",\r\n",
    "    \"throw:\",\r\n",
    "    \"push:\",\r\n",
    "    \"pull:\",\r\n",
    "    \"waveHands:\",\r\n",
    "    \"clapHands:\"\r\n",
    "] \r\n",
    "\r\n",
    "valuesDict = []\r\n",
    "numLabels =[]\r\n",
    "\r\n",
    "with open(fileLabel, 'r') as f:\r\n",
    "    LabelFile = f.read()\r\n",
    "LabelFile = LabelFile.split('\\n')\r\n",
    "len(LabelFile)\r\n",
    "folderName = []\r\n",
    "imageRangeForAction = {}\r\n",
    "for i in range(len(LabelFile)):\r\n",
    "    if i % 11 == 0:\r\n",
    "        folderName.append(LabelFile[i])\r\n",
    "        valuesDict.append(['-1','-1'])\r\n",
    "    else:\r\n",
    "        # put first column as key and the rest as value\r\n",
    "        imageRangeForAction[LabelFile[i].split(' ')[0]+str(i)] = [x for x in LabelFile[i].split(' ')[1:]]\r\n",
    "        actionLabel = i % 11\r\n",
    "        valuesDict.append(imageRangeForAction[action[actionLabel-1]+str(i)])\r\n",
    "\r\n",
    "for i in range(len(valuesDict)):\r\n",
    "    if(valuesDict[i][1] != -1):\r\n",
    "        numLabels.append(int(valuesDict[i][1]) - int(valuesDict[i][0]) + 1)\r\n",
    "\r\n",
    "\r\n",
    "        #with open(fileY, 'a') as f:\r\n",
    "        #    for i in range(numLabels + 1):\r\n",
    "        #        f.write(str(actionLabel))\r\n",
    "        #        f.write('\\n')\r\n",
    "            \r\n",
    "\r\n",
    "#valuesDict\r\n"
   ],
   "outputs": [],
   "metadata": {}
  },
  {
   "cell_type": "code",
   "execution_count": 5,
   "source": [
    "####Working\r\n",
    "##### Kinect joints in increasing order written to separate text files\r\n",
    "\r\n",
    "######## TODO: all files rae same. Not according to s01_e01 and add only the images needed in files, Prepare Y\r\n",
    "'''counter = 0\r\n",
    "hasEntered = False\r\n",
    "\r\n",
    "folderName2 = folderName[:-1]\r\n",
    "\r\n",
    "fileName_yTrain = open('D:/UBC_Coursework/Term2/571T/Project/HAR/LSTM-Pytorch/data/HAR_pose_activities/Joints_kinect/yTrain.txt',\"w+\")\r\n",
    "fileName_xTrain = open('D:/UBC_Coursework/Term2/571T/Project/HAR/LSTM-Pytorch/data/HAR_pose_activities/Joints_kinect/xTrain.txt',\"w+\")\r\n",
    "for i in range(len(folderName2)):\r\n",
    "    fileName_train_Kinect = open('D:/UBC_Coursework/Term2/571T/Project/HAR/LSTM-Pytorch/data/HAR_pose_activities/Joints_kinect/' + folderName[i] + '.txt',\"w+\")\r\n",
    "    new_data = read_from_file(folderName[i])\r\n",
    "    counter = counter+1\r\n",
    "    yCounter = 1\r\n",
    "    for a in range(10):\r\n",
    "        #print(\"range(10) yCounter: \", yCounter) \r\n",
    "        for j in range(len(new_data)):\r\n",
    "            #print(\"(len(new yCounter: \", yCounter) \r\n",
    "            if new_data[j][0] >= int(valuesDict[counter][0]) and new_data[j][0] <= int(valuesDict[counter][1]):\r\n",
    "                hasEntered = True\r\n",
    "                for k in range(41):\r\n",
    "                    fileName_train_Kinect.write(str(new_data[j][k]))\r\n",
    "                    fileName_train_Kinect.write(' ')\r\n",
    "                fileName_train_Kinect.write(\"\\n\") \r\n",
    "                fileName_yTrain.write(str(yCounter))\r\n",
    "                fileName_yTrain.write(\"\\n\") \r\n",
    "                #print(\"yCounter: \", yCounter)         \r\n",
    "            else:\r\n",
    "                if hasEntered == True:\r\n",
    "                    hasEntered = False \r\n",
    "                    counter = counter + 1\r\n",
    "                    yCounter = yCounter + 1\r\n",
    "                    #print(\"yCounter: \", yCounter) \r\n",
    "                    break\r\n",
    "fileName_train_Kinect.close()\r\n",
    "fileName_yTrain.close()'''"
   ],
   "outputs": [
    {
     "output_type": "execute_result",
     "data": {
      "text/plain": [
       "'counter = 0\\nhasEntered = False\\n\\nfolderName2 = folderName[:-1]\\n\\nfileName_yTrain = open(\\'D:/UBC_Coursework/Term2/571T/Project/HAR/LSTM-Pytorch/data/HAR_pose_activities/Joints_kinect/yTrain.txt\\',\"w+\")\\nfileName_xTrain = open(\\'D:/UBC_Coursework/Term2/571T/Project/HAR/LSTM-Pytorch/data/HAR_pose_activities/Joints_kinect/xTrain.txt\\',\"w+\")\\nfor i in range(len(folderName2)):\\n    fileName_train_Kinect = open(\\'D:/UBC_Coursework/Term2/571T/Project/HAR/LSTM-Pytorch/data/HAR_pose_activities/Joints_kinect/\\' + folderName[i] + \\'.txt\\',\"w+\")\\n    new_data = read_from_file(folderName[i])\\n    counter = counter+1\\n    yCounter = 1\\n    for a in range(10):\\n        #print(\"range(10) yCounter: \", yCounter) \\n        for j in range(len(new_data)):\\n            #print(\"(len(new yCounter: \", yCounter) \\n            if new_data[j][0] >= int(valuesDict[counter][0]) and new_data[j][0] <= int(valuesDict[counter][1]):\\n                hasEntered = True\\n                for k in range(41):\\n                    fileName_train_Kinect.write(str(new_data[j][k]))\\n                    fileName_train_Kinect.write(\\' \\')\\n                fileName_train_Kinect.write(\"\\n\") \\n                fileName_yTrain.write(str(yCounter))\\n                fileName_yTrain.write(\"\\n\") \\n                #print(\"yCounter: \", yCounter)         \\n            else:\\n                if hasEntered == True:\\n                    hasEntered = False \\n                    counter = counter + 1\\n                    yCounter = yCounter + 1\\n                    #print(\"yCounter: \", yCounter) \\n                    break\\nfileName_train_Kinect.close()\\nfileName_yTrain.close()'"
      ]
     },
     "metadata": {},
     "execution_count": 5
    }
   ],
   "metadata": {}
  },
  {
   "cell_type": "code",
   "execution_count": 6,
   "source": [
    "\r\n",
    "##### Kinect joints in increasing order written to separate text files\r\n",
    "####### create X_train and Y_train\r\n",
    "\r\n",
    "######## TODO: all files rae same. Not according to s01_e01 and add only the images needed in files, Prepare Y\r\n",
    "counter = 0\r\n",
    "hasEntered = False\r\n",
    "\r\n",
    "#folderName2 = folderName[:-1]\r\n",
    "folderName2 = folderName\r\n",
    "\r\n",
    "fileName_yTrain = open('D:/UBC_Coursework/Term2/571T/Project/HAR/LSTM-Pytorch/data/HAR_pose_activities/Joints_kinect/yTrain.txt',\"w+\")\r\n",
    "fileName_xTrain = open('D:/UBC_Coursework/Term2/571T/Project/HAR/LSTM-Pytorch/data/HAR_pose_activities/Joints_kinect/xTrain.txt',\"w+\")\r\n",
    "\r\n",
    "fileName_yTest = open('D:/UBC_Coursework/Term2/571T/Project/HAR/LSTM-Pytorch/data/HAR_pose_activities/Joints_kinect/yTest.txt',\"w+\")\r\n",
    "fileName_xTest = open('D:/UBC_Coursework/Term2/571T/Project/HAR/LSTM-Pytorch/data/HAR_pose_activities/Joints_kinect/xTest.txt',\"w+\")\r\n",
    "for i in range(len(folderName2)):\r\n",
    "    fileName_train_Kinect = open('D:/UBC_Coursework/Term2/571T/Project/HAR/LSTM-Pytorch/data/HAR_pose_activities/Joints_kinect/' + folderName[i] + '.txt',\"w+\")\r\n",
    "    new_data = read_from_file(folderName[i])\r\n",
    "    counter = counter+1\r\n",
    "    yCounter = 1\r\n",
    "    if i != 18 and i != 19:\r\n",
    "        for a in range(10):\r\n",
    "            #print(\"range(10) yCounter: \", yCounter) \r\n",
    "            for j in range(len(new_data)):\r\n",
    "                #print(\"(len(new yCounter: \", yCounter) \r\n",
    "                if new_data[j][0] >= int(valuesDict[counter][0]) and new_data[j][0] <= int(valuesDict[counter][1]):\r\n",
    "                    hasEntered = True\r\n",
    "                    for k in range(41):\r\n",
    "                        fileName_train_Kinect.write(str(new_data[j][k]))\r\n",
    "                        fileName_train_Kinect.write(' ')\r\n",
    "                        fileName_xTrain.write(str(new_data[j][k]))\r\n",
    "                        fileName_xTrain.write(' ')\r\n",
    "                    fileName_train_Kinect.write(\"\\n\") \r\n",
    "                    fileName_xTrain.write(\"\\n\")\r\n",
    "                    fileName_yTrain.write(str(yCounter))\r\n",
    "                    fileName_yTrain.write(\"\\n\") \r\n",
    "                    #print(\"yCounter: \", yCounter)         \r\n",
    "                else:\r\n",
    "                    if hasEntered == True:\r\n",
    "                        hasEntered = False \r\n",
    "                        counter = counter + 1\r\n",
    "                        yCounter = yCounter + 1\r\n",
    "                        #print(\"yCounter: \", yCounter) \r\n",
    "                        break\r\n",
    "    else:\r\n",
    "        for a in range(10):\r\n",
    "            #print(\"range(10) yCounter: \", yCounter) \r\n",
    "            for j in range(len(new_data)):\r\n",
    "                #print(\"(len(new yCounter: \", yCounter) \r\n",
    "                if new_data[j][0] >= int(valuesDict[counter][0]) and new_data[j][0] <= int(valuesDict[counter][1]):\r\n",
    "                    hasEntered = True\r\n",
    "                    for k in range(41):\r\n",
    "                        fileName_train_Kinect.write(str(new_data[j][k]))\r\n",
    "                        fileName_train_Kinect.write(' ')\r\n",
    "                        fileName_xTest.write(str(new_data[j][k]))\r\n",
    "                        fileName_xTest.write(' ')\r\n",
    "                    fileName_train_Kinect.write(\"\\n\") \r\n",
    "                    fileName_xTest.write(\"\\n\")\r\n",
    "                    fileName_yTest.write(str(yCounter))\r\n",
    "                    fileName_yTest.write(\"\\n\") \r\n",
    "                    #print(\"yCounter: \", yCounter)         \r\n",
    "                else:\r\n",
    "                    if hasEntered == True:\r\n",
    "                        hasEntered = False \r\n",
    "                        counter = counter + 1\r\n",
    "                        yCounter = yCounter + 1\r\n",
    "                        #print(\"yCounter: \", yCounter) \r\n",
    "                        break\r\n",
    "fileName_train_Kinect.close()\r\n",
    "fileName_yTrain.close()\r\n",
    "fileName_xTrain.close()\r\n",
    "fileName_yTest.close()\r\n",
    "fileName_xTest.close()"
   ],
   "outputs": [],
   "metadata": {}
  },
  {
   "cell_type": "code",
   "execution_count": 7,
   "source": [
    "### Arrange in the format that HAR wants\r\n",
    "fileJointsYTrain_fread = 'D:/UBC_Coursework/Term2/571T/Project/HAR/LSTM-Pytorch/data/HAR_pose_activities/Joints_kinect/yTrain.txt'\r\n",
    "fileJointsXTrain_fread = 'D:/UBC_Coursework/Term2/571T/Project/HAR/LSTM-Pytorch/data/HAR_pose_activities/Joints_kinect/xTrain.txt'\r\n",
    "\r\n",
    "fileJointsYTrain_final = open('D:/UBC_Coursework/Term2/571T/Project/HAR/LSTM-Pytorch/data/HAR_pose_activities/Joints_kinect/yTrainFinal.txt',\"w+\")\r\n",
    "fileJointsXTrain_final = open('D:/UBC_Coursework/Term2/571T/Project/HAR/LSTM-Pytorch/data/HAR_pose_activities/Joints_kinect/xTrainFinal.txt',\"w+\")\r\n",
    "\r\n",
    "with open(fileJointsYTrain_fread, 'r') as f:\r\n",
    "        dataY = f.read()\r\n",
    "dataY = dataY.split('\\n')\r\n",
    "dataY = dataY[:-1]\r\n",
    "dataY = np.array(dataY)\r\n",
    "\r\n",
    "with open(fileJointsXTrain_fread, 'r') as f:\r\n",
    "        dataX = f.read()\r\n",
    "dataX = dataX.split('\\n')\r\n",
    "dataX = dataX[:-1]\r\n",
    "dataX = [np.fromstring(d, sep=' ') for d in dataX]\r\n",
    "dataX = np.array(dataX)\r\n",
    "\r\n",
    "for q in range(11):\r\n",
    "        for i in range(len(dataY)):\r\n",
    "                dataY[i] = int(dataY[i])\r\n",
    "\r\n",
    "                if int(dataY[i]) == q+1:\r\n",
    "                        fileJointsYTrain_final.write(str(q))\r\n",
    "                        fileJointsYTrain_final.write(\"\\n\")\r\n",
    "                        for w in range(40):\r\n",
    "                                fileJointsXTrain_final.write(str(dataX[i][w+1]))\r\n",
    "                                fileJointsXTrain_final.write(' ')\r\n",
    "                        fileJointsXTrain_final.write(\"\\n\")\r\n",
    "\r\n",
    "fileJointsYTrain_final.close()\r\n",
    "fileJointsXTrain_final.close()\r\n",
    "\r\n",
    "fileJointsYTrain_final1 = 'D:/UBC_Coursework/Term2/571T/Project/HAR/LSTM-Pytorch/data/HAR_pose_activities/Joints_kinect/yTrainFinal.txt'\r\n",
    "fileJointsXTrain_final1 = 'D:/UBC_Coursework/Term2/571T/Project/HAR/LSTM-Pytorch/data/HAR_pose_activities/Joints_kinect/xTrainFinal.txt'\r\n",
    "\r\n",
    "with open(fileJointsYTrain_final1, 'r') as f:\r\n",
    "        dataY1 = f.read()\r\n",
    "dataY1 = dataY1.split('\\n')\r\n",
    "dataY1 = dataY1[:-1]\r\n",
    "dataY1 = np.array(dataY1)\r\n",
    "\r\n",
    "with open(fileJointsXTrain_final1, 'r') as f:\r\n",
    "        dataX1 = f.read()\r\n",
    "dataX1 = dataX1.split('\\n')\r\n",
    "dataX1 = dataX1[:-1]\r\n",
    "dataX1 = [np.fromstring(d, sep=' ') for d in dataX1]\r\n",
    "dataX1 = np.array(dataX1)\r\n",
    "X_train_new_kinect = np.zeros((len(dataX1),1),dtype=np.float32)\r\n",
    "X_train_kinect = np.zeros((5145,40),dtype=np.float32)\r\n",
    "X_train_new_kinect = dataX1\r\n",
    "\r\n",
    "ylen = 147 ##### 5145/35\r\n",
    "indexY = 0\r\n",
    "sumY = 0\r\n",
    "Y_train_Kinect = np.zeros((ylen,1),dtype=np.int32)\r\n",
    "for i in range(len(dataY1)):\r\n",
    "        sumY += float(dataY1[i])\r\n",
    "        #if i is a multiple of 35\r\n",
    "        if (i+1)%35 == 0 and i != 5145: \r\n",
    "                Y_train_Kinect[indexY] = int(sumY/35) ###########TODO : always takes floor. Check if this needs to be changed\r\n",
    "                indexY += 1\r\n",
    "                sumY = 0\r\n",
    "\r\n",
    "#X_train_new_kinect = X_train_new_kinect[0:5145,:]\r\n",
    "\r\n",
    "for q in range(len(X_train_new_kinect)):\r\n",
    "        for w in range(40):\r\n",
    "                X_train_kinect[q][w] = np.float32(X_train_new_kinect[q][w])\r\n",
    "\r\n",
    "\r\n",
    "#################### Xdata len = 5145"
   ],
   "outputs": [],
   "metadata": {}
  },
  {
   "cell_type": "code",
   "execution_count": 9,
   "source": [
    "len(dataX)\r\n",
    "X_train_kinect.shape"
   ],
   "outputs": [
    {
     "output_type": "execute_result",
     "data": {
      "text/plain": [
       "(5145, 40)"
      ]
     },
     "metadata": {},
     "execution_count": 9
    }
   ],
   "metadata": {}
  },
  {
   "cell_type": "code",
   "execution_count": 8,
   "source": [
    "fileJointsYTest_fread = 'D:/UBC_Coursework/Term2/571T/Project/HAR/LSTM-Pytorch/data/HAR_pose_activities/Joints_kinect/yTest.txt'\r\n",
    "fileJointsXTest_fread = 'D:/UBC_Coursework/Term2/571T/Project/HAR/LSTM-Pytorch/data/HAR_pose_activities/Joints_kinect/xTest.txt'\r\n",
    "\r\n",
    "fileJointsYTest_final = open('D:/UBC_Coursework/Term2/571T/Project/HAR/LSTM-Pytorch/data/HAR_pose_activities/Joints_kinect/yTestFinal.txt',\"w+\")\r\n",
    "fileJointsXTest_final = open('D:/UBC_Coursework/Term2/571T/Project/HAR/LSTM-Pytorch/data/HAR_pose_activities/Joints_kinect/xTestFinal.txt',\"w+\")\r\n",
    "\r\n",
    "with open(fileJointsYTest_fread, 'r') as f:\r\n",
    "        dataYTest = f.read()\r\n",
    "dataYTest = dataYTest.split('\\n')\r\n",
    "dataYTest = dataYTest[:-1]\r\n",
    "dataYTest = np.array(dataYTest)\r\n",
    "\r\n",
    "with open(fileJointsXTest_fread, 'r') as f:\r\n",
    "        dataXTest = f.read()\r\n",
    "dataXTest = dataXTest.split('\\n')\r\n",
    "dataXTest = dataXTest[:-1]\r\n",
    "dataXTest = [np.fromstring(d, sep=' ') for d in dataXTest]\r\n",
    "dataXTest = np.array(dataXTest)\r\n",
    "\r\n",
    "for q in range(11):\r\n",
    "        for i in range(len(dataYTest)):\r\n",
    "                dataYTest[i] = int(dataYTest[i])\r\n",
    "\r\n",
    "                if int(dataYTest[i]) == q+1:\r\n",
    "                        fileJointsYTest_final.write(str(q))\r\n",
    "                        fileJointsYTest_final.write(\"\\n\")\r\n",
    "                        for w in range(40):\r\n",
    "                                fileJointsXTest_final.write(str(dataXTest[i][w+1]))\r\n",
    "                                fileJointsXTest_final.write(' ')\r\n",
    "                        fileJointsXTest_final.write(\"\\n\")\r\n",
    "\r\n",
    "fileJointsYTest_final.close()\r\n",
    "fileJointsXTest_final.close()\r\n",
    "\r\n",
    "\r\n",
    "fileJointsYTest_final1 = 'D:/UBC_Coursework/Term2/571T/Project/HAR/LSTM-Pytorch/data/HAR_pose_activities/Joints_kinect/yTestFinal.txt'\r\n",
    "fileJointsXTest_final1 = 'D:/UBC_Coursework/Term2/571T/Project/HAR/LSTM-Pytorch/data/HAR_pose_activities/Joints_kinect/xTestFinal.txt'\r\n",
    "\r\n",
    "with open(fileJointsYTest_final1, 'r') as f:\r\n",
    "        dataY1Test = f.read()\r\n",
    "dataY1Test = dataY1Test.split('\\n')\r\n",
    "dataY1Test = dataY1Test[:-1]\r\n",
    "dataY1Test = np.array(dataY1Test)\r\n",
    "\r\n",
    "with open(fileJointsXTest_final1, 'r') as f:\r\n",
    "        dataX1Test = f.read()\r\n",
    "dataX1Test = dataX1Test.split('\\n')\r\n",
    "dataX1Test = dataX1Test[:-1]\r\n",
    "dataX1Test = [np.fromstring(d, sep=' ') for d in dataX1Test]\r\n",
    "dataX1Test = np.array(dataX1Test)\r\n",
    "\r\n",
    "X_test_new_kinect = np.zeros((len(dataX1Test),1),dtype=np.float32)\r\n",
    "X_test_kinect = np.zeros((700,40),dtype=np.float32)\r\n",
    "X_test_new_kinect = dataX1Test\r\n",
    "\r\n",
    "ylenTest = 20 ##### 700/35\r\n",
    "indexYTest = 0\r\n",
    "sumYTest = 0\r\n",
    "Y_test_Kinect = np.zeros((ylenTest,1),dtype=np.int32)\r\n",
    "for i in range(len(dataY1Test)):\r\n",
    "        sumYTest += float(dataY1Test[i])\r\n",
    "        #if i is a multiple of 35\r\n",
    "        if (i+1)%35 == 0 and i != 700: \r\n",
    "                Y_test_Kinect[indexYTest] = int(sumYTest/35) ###########TODO : always takes floor. Check if this needs to be changed\r\n",
    "                indexYTest += 1\r\n",
    "                sumYTest = 0\r\n",
    "\r\n",
    "#X_test_new_kinect = X_test_new_kinect[0:700,:]\r\n",
    "\r\n",
    "\r\n",
    "for q in range(len(X_test_new_kinect)):\r\n",
    "        for w in range(40):\r\n",
    "                X_test_kinect[q][w] = np.float32(X_test_new_kinect[q][w])"
   ],
   "outputs": [],
   "metadata": {}
  },
  {
   "cell_type": "code",
   "execution_count": 9,
   "source": [
    "len(dataXTest)\r\n",
    "Y_test_Kinect[19]\r\n",
    "dataY1Test\r\n",
    "len(dataY1Test)\r\n",
    "Y_test_Kinect"
   ],
   "outputs": [
    {
     "output_type": "execute_result",
     "data": {
      "text/plain": [
       "array([[0],\n",
       "       [0],\n",
       "       [0],\n",
       "       [1],\n",
       "       [1],\n",
       "       [1],\n",
       "       [2],\n",
       "       [3],\n",
       "       [3],\n",
       "       [3],\n",
       "       [4],\n",
       "       [4],\n",
       "       [4],\n",
       "       [5],\n",
       "       [6],\n",
       "       [7],\n",
       "       [8],\n",
       "       [8],\n",
       "       [8],\n",
       "       [9]])"
      ]
     },
     "metadata": {},
     "execution_count": 9
    }
   ],
   "metadata": {}
  },
  {
   "cell_type": "code",
   "execution_count": 10,
   "source": [
    "# Useful Constants\r\n",
    "# Output classes to learn how to classify\r\n",
    "LABELS_KINECT = [    \r\n",
    "    \"WALK\",\r\n",
    "    \"SITDOWN\",\r\n",
    "    \"STANDUP\",\r\n",
    "    \"PICKUP\",\r\n",
    "    \"CARRY\",\r\n",
    "    \"THROW\",\r\n",
    "    \"PUSH\",\r\n",
    "    \"PULL\",\r\n",
    "    \"WAVEHANDS\",\r\n",
    "    \"CLAPHANDS\"\r\n",
    "] \r\n",
    "\r\n",
    "'''DATASET_PATH = \"data/HAR_pose_activities/database_kinect/\"\r\n",
    "\r\n",
    "X_train_path = DATASET_PATH + \"xTrainFinal.txt\"\r\n",
    "X_test_path = DATASET_PATH + \"xTrainFinal.txt\"\r\n",
    "\r\n",
    "y_train_path = DATASET_PATH + \"yTrainFinal.txt\"\r\n",
    "y_test_path = DATASET_PATH + \"xTrainFinal.txt\"'''\r\n",
    "\r\n",
    "n_steps = 35 # 35 timesteps per series\r\n",
    "n_categories_kinect = len(LABELS_KINECT)\r\n",
    "\r\n",
    "#Train Data\r\n",
    "print(len(X_train_kinect))\r\n",
    "blocks = int(len(X_train_kinect) / n_steps) \r\n",
    "X_train_kinect = np.array(np.split(X_train_kinect,blocks))\r\n",
    "print(len(X_train_kinect))\r\n",
    "\r\n",
    "#Test Data\r\n",
    "print(len(X_test_kinect))\r\n",
    "blocks = int(len(X_test_kinect) / n_steps) \r\n",
    "X_test_kinect = np.array(np.split(X_test_kinect,blocks))\r\n",
    "print(len(X_test_kinect))\r\n"
   ],
   "outputs": [
    {
     "output_type": "stream",
     "name": "stdout",
     "text": [
      "5145\n",
      "147\n",
      "700\n",
      "20\n"
     ]
    }
   ],
   "metadata": {}
  },
  {
   "cell_type": "markdown",
   "source": [
    "### Pre-Process "
   ],
   "metadata": {}
  },
  {
   "cell_type": "code",
   "execution_count": 11,
   "source": [
    "import torch"
   ],
   "outputs": [],
   "metadata": {}
  },
  {
   "cell_type": "code",
   "execution_count": 12,
   "source": [
    "tensor_X_test = torch.from_numpy(X_test_kinect)\r\n",
    "print('test_data_size:',tensor_X_test.size())\r\n",
    "tensor_y_test = torch.from_numpy(Y_test_Kinect)\r\n",
    "print('test_label_size:',tensor_y_test.size())\r\n",
    "n_data_size_test = tensor_X_test.size()[0]\r\n",
    "print('n_data_size_test:',n_data_size_test)\r\n",
    "\r\n",
    "tensor_X_train = torch.from_numpy(X_train_kinect)\r\n",
    "print('train_data_size:',tensor_X_train.size())\r\n",
    "tensor_y_train = torch.from_numpy(Y_train_Kinect)\r\n",
    "print('train_label_size:',tensor_y_train.size())\r\n",
    "n_data_size_train = tensor_X_train.size()[0]\r\n",
    "print('n_data_size_train:',n_data_size_train) "
   ],
   "outputs": [
    {
     "output_type": "stream",
     "name": "stdout",
     "text": [
      "test_data_size: torch.Size([20, 35, 40])\n",
      "test_label_size: torch.Size([20, 1])\n",
      "n_data_size_test: 20\n",
      "train_data_size: torch.Size([147, 35, 40])\n",
      "train_label_size: torch.Size([147, 1])\n",
      "n_data_size_train: 147\n"
     ]
    }
   ],
   "metadata": {
    "scrolled": true
   }
  },
  {
   "cell_type": "code",
   "execution_count": 13,
   "source": [
    "X_train_kinect.shape"
   ],
   "outputs": [
    {
     "output_type": "execute_result",
     "data": {
      "text/plain": [
       "(147, 35, 40)"
      ]
     },
     "metadata": {},
     "execution_count": 13
    }
   ],
   "metadata": {}
  },
  {
   "cell_type": "code",
   "execution_count": 14,
   "source": [
    "import torch.nn as nn"
   ],
   "outputs": [],
   "metadata": {}
  },
  {
   "cell_type": "code",
   "execution_count": 15,
   "source": [
    "device = torch.device('cuda') if torch.cuda.is_available() else torch.device('cpu')"
   ],
   "outputs": [],
   "metadata": {}
  },
  {
   "cell_type": "code",
   "execution_count": 16,
   "source": [
    "class LSTM(nn.Module):\r\n",
    "    \r\n",
    "    def __init__(self,input_dim,hidden_dim,output_dim,layer_num):\r\n",
    "        super(LSTM,self).__init__()\r\n",
    "        self.hidden_dim = hidden_dim \r\n",
    "        self.output_dim = output_dim\r\n",
    "        self.lstm = torch.nn.LSTM(input_dim,hidden_dim,layer_num,batch_first=True)\r\n",
    "        self.fc = torch.nn.Linear(hidden_dim,output_dim)\r\n",
    "        self.bn = nn.BatchNorm1d(35)\r\n",
    "        \r\n",
    "    def forward(self,inputs):\r\n",
    "        x = self.bn(inputs)\r\n",
    "        lstm_out,(hn,cn) = self.lstm(x)\r\n",
    "        out = self.fc(lstm_out[:,-1,:])\r\n",
    "        return out"
   ],
   "outputs": [],
   "metadata": {}
  },
  {
   "cell_type": "code",
   "execution_count": 17,
   "source": [
    "len(LABELS_KINECT)"
   ],
   "outputs": [
    {
     "output_type": "execute_result",
     "data": {
      "text/plain": [
       "10"
      ]
     },
     "metadata": {},
     "execution_count": 17
    }
   ],
   "metadata": {}
  },
  {
   "cell_type": "code",
   "execution_count": 18,
   "source": [
    "n_hidden = 64\r\n",
    "n_joints = 20*2\r\n",
    "n_categories = len(LABELS_KINECT)\r\n",
    "n_layer = 3\r\n",
    "rnn = LSTM(n_joints,n_hidden,n_categories,n_layer)\r\n",
    "rnn.to(device)"
   ],
   "outputs": [
    {
     "output_type": "execute_result",
     "data": {
      "text/plain": [
       "LSTM(\n",
       "  (lstm): LSTM(40, 64, num_layers=3, batch_first=True)\n",
       "  (fc): Linear(in_features=64, out_features=10, bias=True)\n",
       "  (bn): BatchNorm1d(35, eps=1e-05, momentum=0.1, affine=True, track_running_stats=True)\n",
       ")"
      ]
     },
     "metadata": {},
     "execution_count": 18
    }
   ],
   "metadata": {}
  },
  {
   "cell_type": "code",
   "execution_count": 19,
   "source": [
    "def categoryFromOutput(output):\r\n",
    "    top_n, top_i = output.topk(1)\r\n",
    "    #print(\"top_i\", top_i)\r\n",
    "    category_i = top_i[0].item()\r\n",
    "    return LABELS_KINECT[category_i], category_i"
   ],
   "outputs": [],
   "metadata": {}
  },
  {
   "cell_type": "code",
   "execution_count": 20,
   "source": [
    "import random\r\n",
    "def randomTrainingExampleBatch(batch_size,flag,num=-1):\r\n",
    "    if flag == 'train':\r\n",
    "        X = tensor_X_train\r\n",
    "        y = tensor_y_train\r\n",
    "        data_size = n_data_size_train\r\n",
    "    elif flag == 'test':\r\n",
    "        X = tensor_X_test\r\n",
    "        y = tensor_y_test\r\n",
    "        data_size = n_data_size_test\r\n",
    "    if num == -1:\r\n",
    "        ran_num = random.randint(0,data_size-batch_size)\r\n",
    "    else:\r\n",
    "        ran_num = num\r\n",
    "    pose_sequence_tensor = X[ran_num:(ran_num+batch_size)] \r\n",
    "    pose_sequence_tensor = pose_sequence_tensor \r\n",
    "    category_tensor = y[ran_num:ran_num+batch_size,:]\r\n",
    "    return category_tensor.long(),pose_sequence_tensor"
   ],
   "outputs": [],
   "metadata": {}
  },
  {
   "cell_type": "code",
   "execution_count": 21,
   "source": [
    "tensor_y_train.size()"
   ],
   "outputs": [
    {
     "output_type": "execute_result",
     "data": {
      "text/plain": [
       "torch.Size([147, 1])"
      ]
     },
     "metadata": {},
     "execution_count": 21
    }
   ],
   "metadata": {}
  },
  {
   "cell_type": "markdown",
   "source": [
    "### Training"
   ],
   "metadata": {}
  },
  {
   "cell_type": "code",
   "execution_count": 13,
   "source": [
    "#try:\r\n",
    "#    rnn.load_state_dict(torch.load('lstm_6.pkl'))\r\n",
    "#except:\r\n",
    "#    print('no pkl')"
   ],
   "outputs": [],
   "metadata": {}
  },
  {
   "cell_type": "code",
   "execution_count": 22,
   "source": [
    "import torch.optim as optim\r\n",
    "import time\r\n",
    "import math\r\n",
    "\r\n",
    "criterion = nn.CrossEntropyLoss()\r\n",
    "learning_rate = 0.0005\r\n",
    "optimizer = optim.SGD(rnn.parameters(),lr=learning_rate,momentum=0.9)\r\n",
    "#scheduler = optim.lr_scheduler.StepLR(optimizer, step_size=10000, gamma=0.1)\r\n",
    "\r\n",
    "n_iters = 100000\r\n",
    "#n_iters = 60000\r\n",
    "print_every = 1000\r\n",
    "plot_every = 1000\r\n",
    "batch_size = 64\r\n",
    "\r\n",
    "# Keep track of losses for plotting\r\n",
    "current_loss = 0\r\n",
    "all_losses = []\r\n",
    "\r\n",
    "def timeSince(since):\r\n",
    "    now = time.time()\r\n",
    "    s = now - since\r\n",
    "    m = math.floor(s / 60)\r\n",
    "    s -= m * 60\r\n",
    "    return '%dm %ds' % (m, s)\r\n",
    "\r\n",
    "start = time.time()\r\n",
    "\r\n",
    "for iter in range(1, n_iters + 1):\r\n",
    "   \r\n",
    "    category_tensor, input_sequence = randomTrainingExampleBatch(batch_size,'train')\r\n",
    "    #print(\"category_tensor : \", category_tensor)\r\n",
    "    input_sequence = input_sequence.to(device)\r\n",
    "    category_tensor = category_tensor.to(device)\r\n",
    "    category_tensor = torch.squeeze(category_tensor)\r\n",
    "    \r\n",
    "    optimizer.zero_grad()\r\n",
    "    \r\n",
    "    output = rnn(input_sequence)\r\n",
    "    loss = criterion(output, category_tensor)\r\n",
    "    loss.backward()\r\n",
    "    optimizer.step() \r\n",
    "    #scheduler.step()\r\n",
    "    \r\n",
    "    #如果tensor只有一个元素,那么可以用.item()的方法取出这个元素作为普通的python数字.\r\n",
    "    current_loss += loss.item()\r\n",
    "    \r\n",
    "    category = LABELS_KINECT[int(category_tensor[0])]\r\n",
    "\r\n",
    "    # Print iter number, loss, name and guess\r\n",
    "    if iter % print_every == 0:\r\n",
    "        guess, guess_i = categoryFromOutput(output)\r\n",
    "        correct = '✓' if guess == category else '✗ (%s)' % category\r\n",
    "        print('%d %d%% (%s) %.4f  / %s %s' % (iter, iter / n_iters * 100, timeSince(start), loss, guess, correct))\r\n",
    "        \r\n",
    "    # Add current loss avg to list of losses\r\n",
    "    if iter % plot_every == 0:\r\n",
    "        all_losses.append(current_loss / plot_every)\r\n",
    "        current_loss = 0"
   ],
   "outputs": [
    {
     "output_type": "stream",
     "name": "stdout",
     "text": [
      "1000 1% (0m 17s) 1.8265  / CARRY ✗ (SITDOWN)\n",
      "2000 2% (0m 28s) 2.3676  / CARRY ✓\n",
      "3000 3% (0m 38s) 1.7240  / CARRY ✗ (SITDOWN)\n",
      "4000 4% (0m 48s) 1.7983  / CARRY ✓\n",
      "5000 5% (0m 57s) 1.6759  / CARRY ✗ (WALK)\n",
      "6000 6% (1m 7s) 1.7138  / CARRY ✓\n",
      "7000 7% (1m 17s) 0.6341  / STANDUP ✗ (SITDOWN)\n",
      "8000 8% (1m 26s) 1.1009  / CARRY ✓\n",
      "9000 9% (1m 36s) 0.4689  / PICKUP ✓\n",
      "10000 10% (1m 47s) 0.4837  / WALK ✓\n",
      "11000 11% (1m 57s) 0.3680  / WALK ✓\n",
      "12000 12% (2m 6s) 0.3302  / STANDUP ✓\n",
      "13000 13% (2m 15s) 0.3032  / WALK ✓\n",
      "14000 14% (2m 25s) 0.1888  / CARRY ✓\n",
      "15000 15% (2m 34s) 0.1685  / SITDOWN ✓\n",
      "16000 16% (2m 44s) 0.0462  / SITDOWN ✓\n",
      "17000 17% (2m 53s) 0.1248  / PICKUP ✓\n",
      "18000 18% (3m 1s) 0.0989  / PICKUP ✓\n",
      "19000 19% (3m 10s) 0.0800  / PICKUP ✓\n",
      "20000 20% (3m 19s) 0.0186  / WALK ✓\n",
      "21000 21% (3m 28s) 0.0450  / PICKUP ✓\n",
      "22000 22% (3m 38s) 0.0322  / STANDUP ✓\n",
      "23000 23% (3m 47s) 0.0252  / SITDOWN ✓\n",
      "24000 24% (3m 56s) 0.0124  / WALK ✓\n",
      "25000 25% (4m 5s) 0.0073  / SITDOWN ✓\n",
      "26000 26% (4m 14s) 0.0184  / CARRY ✓\n",
      "27000 27% (4m 23s) 0.0158  / CARRY ✓\n",
      "28000 28% (4m 32s) 0.0118  / PICKUP ✓\n",
      "29000 28% (4m 40s) 0.0098  / PICKUP ✓\n",
      "30000 30% (4m 49s) 0.0084  / STANDUP ✓\n",
      "31000 31% (4m 58s) 0.0146  / PICKUP ✓\n",
      "32000 32% (5m 7s) 0.0079  / PICKUP ✓\n",
      "33000 33% (5m 16s) 0.0050  / STANDUP ✓\n",
      "34000 34% (5m 26s) 0.0034  / WALK ✓\n",
      "35000 35% (5m 34s) 0.0027  / SITDOWN ✓\n",
      "36000 36% (5m 43s) 0.0049  / PICKUP ✓\n",
      "37000 37% (5m 52s) 0.0037  / STANDUP ✓\n",
      "38000 38% (6m 1s) 0.0026  / SITDOWN ✓\n",
      "39000 39% (6m 11s) 0.0019  / SITDOWN ✓\n",
      "40000 40% (6m 20s) 0.0037  / PICKUP ✓\n",
      "41000 41% (6m 29s) 0.0036  / PICKUP ✓\n",
      "42000 42% (6m 38s) 0.0033  / PICKUP ✓\n",
      "43000 43% (6m 47s) 0.0017  / SITDOWN ✓\n",
      "44000 44% (6m 55s) 0.0027  / STANDUP ✓\n",
      "45000 45% (7m 5s) 0.0036  / CARRY ✓\n",
      "46000 46% (7m 14s) 0.0021  / WALK ✓\n",
      "47000 47% (7m 22s) 0.0026  / PICKUP ✓\n",
      "48000 48% (7m 31s) 0.0032  / WALK ✓\n",
      "49000 49% (7m 40s) 0.0024  / PICKUP ✓\n",
      "50000 50% (7m 49s) 0.0038  / CARRY ✓\n",
      "51000 51% (7m 58s) 0.0032  / CARRY ✓\n",
      "52000 52% (8m 7s) 0.0019  / STANDUP ✓\n",
      "53000 53% (8m 16s) 0.0022  / WALK ✓\n",
      "54000 54% (8m 25s) 0.0029  / WALK ✓\n",
      "55000 55% (8m 34s) 0.0017  / STANDUP ✓\n",
      "56000 56% (8m 43s) 0.0031  / CARRY ✓\n",
      "57000 56% (8m 51s) 0.0018  / PICKUP ✓\n",
      "58000 57% (9m 0s) 0.0011  / SITDOWN ✓\n",
      "59000 59% (9m 9s) 0.0010  / SITDOWN ✓\n",
      "60000 60% (9m 17s) 0.0017  / CARRY ✓\n",
      "61000 61% (9m 26s) 0.0010  / SITDOWN ✓\n",
      "62000 62% (9m 37s) 0.0031  / CARRY ✓\n",
      "63000 63% (9m 46s) 0.0015  / PICKUP ✓\n",
      "64000 64% (9m 55s) 0.0015  / PICKUP ✓\n",
      "65000 65% (10m 5s) 0.0026  / CARRY ✓\n",
      "66000 66% (10m 14s) 0.0009  / SITDOWN ✓\n",
      "67000 67% (10m 22s) 0.0014  / PICKUP ✓\n",
      "68000 68% (10m 31s) 0.0022  / CARRY ✓\n",
      "69000 69% (10m 40s) 0.0012  / STANDUP ✓\n",
      "70000 70% (10m 49s) 0.0020  / CARRY ✓\n",
      "71000 71% (10m 58s) 0.0018  / WALK ✓\n",
      "72000 72% (11m 7s) 0.0008  / SITDOWN ✓\n",
      "73000 73% (11m 17s) 0.0018  / WALK ✓\n",
      "74000 74% (11m 27s) 0.0012  / STANDUP ✓\n",
      "75000 75% (11m 36s) 0.0017  / CARRY ✓\n",
      "76000 76% (11m 45s) 0.0011  / PICKUP ✓\n",
      "77000 77% (11m 54s) 0.0010  / STANDUP ✓\n",
      "78000 78% (12m 3s) 0.0014  / WALK ✓\n",
      "79000 79% (12m 12s) 0.0008  / SITDOWN ✓\n",
      "80000 80% (12m 23s) 0.0011  / PICKUP ✓\n",
      "81000 81% (12m 33s) 0.0020  / WALK ✓\n",
      "82000 82% (12m 42s) 0.0040  / STANDUP ✓\n",
      "83000 83% (12m 51s) 0.0024  / STANDUP ✓\n",
      "84000 84% (13m 2s) 0.0029  / PICKUP ✓\n",
      "85000 85% (13m 14s) 0.0023  / STANDUP ✓\n",
      "86000 86% (13m 24s) 0.0021  / CARRY ✓\n",
      "87000 87% (13m 34s) 0.0015  / STANDUP ✓\n",
      "88000 88% (13m 44s) 0.0017  / STANDUP ✓\n",
      "89000 89% (13m 53s) 0.0006  / SITDOWN ✓\n",
      "90000 90% (14m 1s) 0.0011  / WALK ✓\n",
      "91000 91% (14m 10s) 0.0014  / PICKUP ✓\n",
      "92000 92% (14m 19s) 0.0006  / SITDOWN ✓\n",
      "93000 93% (14m 28s) 0.0009  / WALK ✓\n",
      "94000 94% (14m 37s) 0.0013  / PICKUP ✓\n",
      "95000 95% (14m 45s) 0.0013  / CARRY ✓\n",
      "96000 96% (14m 54s) 0.0013  / CARRY ✓\n",
      "97000 97% (15m 2s) 0.0010  / STANDUP ✓\n",
      "98000 98% (15m 11s) 0.0012  / PICKUP ✓\n",
      "99000 99% (15m 20s) 0.0007  / SITDOWN ✓\n",
      "100000 100% (15m 28s) 0.0011  / PICKUP ✓\n"
     ]
    }
   ],
   "metadata": {}
  },
  {
   "cell_type": "code",
   "execution_count": 23,
   "source": [
    "len(output)"
   ],
   "outputs": [
    {
     "output_type": "execute_result",
     "data": {
      "text/plain": [
       "64"
      ]
     },
     "metadata": {},
     "execution_count": 23
    }
   ],
   "metadata": {}
  },
  {
   "cell_type": "code",
   "execution_count": 24,
   "source": [
    "print(output.shape)\r\n",
    "print(category_tensor.shape)"
   ],
   "outputs": [
    {
     "output_type": "stream",
     "name": "stdout",
     "text": [
      "torch.Size([64, 10])\n",
      "torch.Size([64])\n"
     ]
    }
   ],
   "metadata": {}
  },
  {
   "cell_type": "code",
   "execution_count": 25,
   "source": [
    "output"
   ],
   "outputs": [
    {
     "output_type": "execute_result",
     "data": {
      "text/plain": [
       "tensor([[ 3.9020e+00,  3.5198e+00,  1.2245e+00,  1.2391e+01, -7.4557e-01,\n",
       "         -4.4963e+00, -3.0968e+00, -4.4419e+00, -4.8664e+00, -2.8460e+00],\n",
       "        [ 3.5972e+00,  3.3580e+00,  1.0432e+00,  1.2042e+01, -7.7900e-01,\n",
       "         -4.1832e+00, -2.8714e+00, -4.3736e+00, -4.3260e+00, -2.9700e+00],\n",
       "        [ 3.7522e+00,  3.5163e+00,  9.6867e-01,  1.2211e+01, -5.1437e-01,\n",
       "         -4.3810e+00, -2.8902e+00, -4.5766e+00, -4.6457e+00, -2.8467e+00],\n",
       "        [ 3.6615e+00,  3.2462e+00,  8.3111e-01,  1.2090e+01, -4.2099e-01,\n",
       "         -4.1286e+00, -2.8770e+00, -4.5346e+00, -4.3523e+00, -2.9007e+00],\n",
       "        [ 3.6047e+00, -6.5545e-02, -3.4114e+00,  5.2996e-01,  1.1903e+01,\n",
       "         -1.0613e+00, -2.6406e+00, -4.3652e+00, -4.3808e+00,  1.1304e-01],\n",
       "        [ 4.0036e+00,  9.6712e-02, -3.4434e+00,  6.9909e-01,  1.2211e+01,\n",
       "         -1.3094e+00, -2.6983e+00, -4.6138e+00, -4.9024e+00,  2.6515e-01],\n",
       "        [ 3.9900e+00, -1.0281e-02, -3.5014e+00,  6.8696e-01,  1.2220e+01,\n",
       "         -1.1680e+00, -2.7143e+00, -4.6316e+00, -4.8245e+00,  2.3317e-01],\n",
       "        [ 3.5379e+00, -9.3596e-02, -3.3961e+00,  5.0168e-01,  1.1811e+01,\n",
       "         -9.3285e-01, -2.6627e+00, -4.2884e+00, -4.3671e+00,  1.5694e-01],\n",
       "        [ 3.6908e+00, -1.1982e-01, -3.4097e+00,  5.8750e-01,  1.1929e+01,\n",
       "         -1.0332e+00, -2.6651e+00, -4.4197e+00, -4.4906e+00,  1.9918e-01],\n",
       "        [ 3.5397e+00, -7.9122e-02, -3.3776e+00,  5.1015e-01,  1.1807e+01,\n",
       "         -9.7141e-01, -2.6553e+00, -4.3098e+00, -4.3259e+00,  7.8847e-02],\n",
       "        [ 3.8494e+00, -8.2243e-02, -3.4075e+00,  3.8510e-01,  1.2169e+01,\n",
       "         -1.2502e+00, -2.4855e+00, -4.5100e+00, -5.0076e+00,  7.7671e-01],\n",
       "        [ 3.5283e+00, -7.0054e-02, -3.3166e+00,  5.3398e-01,  1.1682e+01,\n",
       "         -9.9641e-01, -2.6521e+00, -4.2758e+00, -4.2706e+00,  2.6988e-02],\n",
       "        [ 3.7713e+00, -1.3368e-01, -3.5472e+00,  4.6139e-01,  1.2185e+01,\n",
       "         -1.0059e+00, -2.6677e+00, -4.4402e+00, -4.7658e+00,  5.4855e-01],\n",
       "        [ 3.5239e+00, -1.3259e-01, -3.4117e+00,  4.5279e-01,  1.1823e+01,\n",
       "         -8.8143e-01, -2.6622e+00, -4.2750e+00, -4.3989e+00,  2.6185e-01],\n",
       "        [ 3.7373e+00, -1.3567e-01, -3.5257e+00,  4.9458e-01,  1.2146e+01,\n",
       "         -1.0170e+00, -2.6706e+00, -4.4218e+00, -4.7023e+00,  4.6019e-01],\n",
       "        [ 4.0186e+00,  2.2330e-02, -3.4918e+00,  6.7296e-01,  1.2220e+01,\n",
       "         -1.2182e+00, -2.6991e+00, -4.6297e+00, -4.8686e+00,  2.5221e-01],\n",
       "        [ 3.8891e+00, -8.1793e-02, -3.4592e+00,  4.6993e-01,  1.2276e+01,\n",
       "         -1.2247e+00, -2.5803e+00, -4.5076e+00, -5.0719e+00,  7.3206e-01],\n",
       "        [ 3.5884e+00, -1.2610e-01, -3.4469e+00,  4.4376e-01,  1.1936e+01,\n",
       "         -9.3450e-01, -2.6520e+00, -4.3266e+00, -4.5131e+00,  3.5617e-01],\n",
       "        [ 3.6563e+00, -8.5440e-02, -3.4279e+00,  4.6106e-01,  1.1992e+01,\n",
       "         -1.0183e+00, -2.6553e+00, -4.3709e+00, -4.6099e+00,  3.9661e-01],\n",
       "        [ 3.7010e+00, -1.2373e-01, -3.5161e+00,  4.6527e-01,  1.2118e+01,\n",
       "         -9.9788e-01, -2.6664e+00, -4.4037e+00, -4.6646e+00,  4.5284e-01],\n",
       "        [ 3.6463e+00, -7.2158e-02, -3.4709e+00,  5.1333e-01,  1.2021e+01,\n",
       "         -9.6731e-01, -2.6826e+00, -4.3836e+00, -4.5476e+00,  2.4838e-01],\n",
       "        [ 3.7978e+00, -1.4635e-01, -3.5687e+00,  4.6357e-01,  1.2266e+01,\n",
       "         -1.0438e+00, -2.6613e+00, -4.4527e+00, -4.8475e+00,  5.9712e-01],\n",
       "        [ 3.6064e+00, -1.3086e-01, -3.4803e+00,  4.7267e-01,  1.1976e+01,\n",
       "         -9.1358e-01, -2.6731e+00, -4.3354e+00, -4.5097e+00,  3.3998e-01],\n",
       "        [ 3.6411e+00, -1.7545e-01, -3.5607e+00,  4.0099e-01,  1.2086e+01,\n",
       "         -8.4710e-01, -2.6737e+00, -4.3637e+00, -4.5872e+00,  4.7762e-01],\n",
       "        [ 3.8028e+00, -1.4640e-01, -3.5410e+00,  4.4955e-01,  1.2245e+01,\n",
       "         -1.0764e+00, -2.6321e+00, -4.4522e+00, -4.8785e+00,  6.4192e-01],\n",
       "        [ 3.5737e+00, -1.0536e-01, -3.4189e+00,  4.7268e-01,  1.1891e+01,\n",
       "         -9.0445e-01, -2.6772e+00, -4.3126e+00, -4.4914e+00,  2.6672e-01],\n",
       "        [ 3.6622e+00, -1.3553e-01, -3.5032e+00,  4.5695e-01,  1.2077e+01,\n",
       "         -9.8021e-01, -2.6645e+00, -4.3856e+00, -4.5847e+00,  4.2364e-01],\n",
       "        [ 3.7013e+00, -5.4931e-02, -3.4860e+00,  5.6179e-01,  1.2068e+01,\n",
       "         -1.0827e+00, -2.6677e+00, -4.4389e+00, -4.5245e+00,  1.6361e-01],\n",
       "        [ 3.6113e+00, -9.3884e-02, -3.4345e+00,  4.8107e-01,  1.1924e+01,\n",
       "         -9.1896e-01, -2.6770e+00, -4.3363e+00, -4.5314e+00,  2.8451e-01],\n",
       "        [ 3.7439e+00, -4.7317e-02, -3.4402e+00,  4.9828e-01,  1.1935e+01,\n",
       "         -9.7549e-01, -2.6588e+00, -4.4138e+00, -4.6208e+00,  3.1911e-01],\n",
       "        [ 3.9440e+00, -4.3192e-02, -3.3472e+00,  2.9148e-01,  1.2009e+01,\n",
       "         -1.1604e+00, -2.5203e+00, -4.4033e+00, -5.1405e+00,  9.8950e-01],\n",
       "        [-3.5809e+00, -2.3069e+00, -2.4580e+00, -5.0449e+00, -2.3242e+00,\n",
       "          1.0051e+01,  2.8569e+00,  2.5930e+00,  2.4464e+00, -5.3600e-01],\n",
       "        [-3.6502e+00, -2.3151e+00, -2.4169e+00, -5.0728e+00, -2.4202e+00,\n",
       "          1.0090e+01,  2.8833e+00,  2.6517e+00,  2.4804e+00, -5.2759e-01],\n",
       "        [-3.7727e+00, -2.3573e+00, -2.3985e+00, -5.1619e+00, -2.6146e+00,\n",
       "          1.0198e+01,  2.9498e+00,  2.8435e+00,  2.5238e+00, -5.3961e-01],\n",
       "        [-3.6062e+00, -2.2807e+00, -2.3879e+00, -5.0027e+00, -2.2170e+00,\n",
       "          9.9541e+00,  2.8693e+00,  2.4786e+00,  2.4486e+00, -5.1052e-01],\n",
       "        [-3.6212e+00, -2.2187e+00, -2.4674e+00, -5.1512e+00, -2.2963e+00,\n",
       "          1.0033e+01,  2.8294e+00,  2.6235e+00,  2.3838e+00, -3.9337e-01],\n",
       "        [-3.7428e+00, -2.3524e+00, -2.3791e+00, -5.0916e+00, -2.5421e+00,\n",
       "          1.0088e+01,  2.9091e+00,  2.7905e+00,  2.5163e+00, -5.4009e-01],\n",
       "        [-2.7307e+00, -1.1563e+00, -1.1303e+00, -6.3503e+00, -5.8861e+00,\n",
       "          3.0215e+00,  1.0156e+01,  4.1488e+00,  3.3705e-01,  2.1502e+00],\n",
       "        [-2.6639e+00, -1.1431e+00, -1.2065e+00, -6.3623e+00, -5.7607e+00,\n",
       "          3.0504e+00,  1.0151e+01,  4.0600e+00,  2.8321e-01,  2.1770e+00],\n",
       "        [-2.7814e+00, -1.1599e+00, -1.1116e+00, -6.2959e+00, -5.9037e+00,\n",
       "          3.0502e+00,  1.0131e+01,  4.1526e+00,  3.4580e-01,  2.1118e+00],\n",
       "        [-2.4609e+00, -4.6123e-01,  6.4636e-02, -5.6865e+00, -5.4175e+00,\n",
       "          7.1255e-01,  9.8608e+00,  3.3745e+00, -1.8256e+00,  3.7003e+00],\n",
       "        [-2.3737e+00, -3.2423e-01, -7.0810e-02, -5.5034e+00, -5.0636e+00,\n",
       "          7.6640e-01,  9.7097e+00,  3.1065e+00, -2.0184e+00,  3.6921e+00],\n",
       "        [-4.4644e+00, -2.1975e+00,  1.3602e+00, -5.5898e+00, -7.9296e+00,\n",
       "          2.5967e+00,  4.4392e+00,  1.0350e+01,  1.6893e+00,  1.7405e-01],\n",
       "        [-4.5212e+00, -2.2192e+00,  1.4521e+00, -5.4554e+00, -7.9139e+00,\n",
       "          2.5704e+00,  4.3205e+00,  1.0310e+01,  1.7463e+00,  7.9152e-02],\n",
       "        [-4.4354e+00, -2.1783e+00,  1.2884e+00, -5.6216e+00, -7.8666e+00,\n",
       "          2.6166e+00,  4.4584e+00,  1.0337e+01,  1.6411e+00,  2.0377e-01],\n",
       "        [-4.5290e+00, -2.2234e+00,  1.4592e+00, -5.4804e+00, -7.9741e+00,\n",
       "          2.5817e+00,  4.3502e+00,  1.0349e+01,  1.7469e+00,  9.1882e-02],\n",
       "        [-4.5126e+00, -2.2204e+00,  1.4270e+00, -5.4892e+00, -7.9245e+00,\n",
       "          2.5886e+00,  4.3606e+00,  1.0339e+01,  1.7107e+00,  1.0943e-01],\n",
       "        [-4.4670e+00, -2.1850e+00,  1.3538e+00, -5.5488e+00, -7.8621e+00,\n",
       "          2.5858e+00,  4.3933e+00,  1.0313e+01,  1.6881e+00,  1.5343e-01],\n",
       "        [-4.5247e+00, -2.1972e+00,  1.4471e+00, -5.4654e+00, -7.8836e+00,\n",
       "          2.5632e+00,  4.3077e+00,  1.0296e+01,  1.7481e+00,  8.7691e-02],\n",
       "        [-4.3949e+00, -2.7718e+00, -7.2115e-02, -1.7941e+00, -4.9152e+00,\n",
       "          3.2200e+00,  4.2808e-01,  2.0400e+00,  1.0878e+01, -2.8653e+00],\n",
       "        [-4.5831e+00, -2.8881e+00,  2.3187e-02, -1.8515e+00, -5.2003e+00,\n",
       "          3.2413e+00,  4.8075e-01,  2.2777e+00,  1.1099e+01, -2.8977e+00],\n",
       "        [-4.4416e+00, -2.8045e+00, -5.3844e-02, -1.8157e+00, -4.9808e+00,\n",
       "          3.2216e+00,  4.2936e-01,  2.1063e+00,  1.0958e+01, -2.8809e+00],\n",
       "        [-4.6202e+00, -2.9194e+00,  4.3456e-02, -1.8670e+00, -5.2606e+00,\n",
       "          3.2696e+00,  4.7474e-01,  2.3197e+00,  1.1167e+01, -2.9159e+00],\n",
       "        [-4.5930e+00, -2.9007e+00,  2.1510e-02, -1.8720e+00, -5.2139e+00,\n",
       "          3.2730e+00,  4.6030e-01,  2.2886e+00,  1.1146e+01, -2.9136e+00],\n",
       "        [-4.6327e+00, -2.9259e+00,  4.5424e-02, -1.8899e+00, -5.2774e+00,\n",
       "          3.2811e+00,  4.7175e-01,  2.3374e+00,  1.1194e+01, -2.9188e+00],\n",
       "        [-4.5917e+00, -2.8901e+00,  3.0298e-02, -1.8406e+00, -5.2174e+00,\n",
       "          3.2350e+00,  4.8438e-01,  2.2841e+00,  1.1113e+01, -2.9020e+00],\n",
       "        [-4.3250e+00, -2.7600e+00, -1.4277e-01, -1.8450e+00, -4.7714e+00,\n",
       "          3.3037e+00,  4.1405e-01,  1.9653e+00,  1.0743e+01, -2.8408e+00],\n",
       "        [-4.3192e+00, -2.7663e+00, -1.7659e-01, -1.8620e+00, -4.6973e+00,\n",
       "          3.3622e+00,  4.4001e-01,  1.9106e+00,  1.0705e+01, -2.8317e+00],\n",
       "        [-4.4283e+00, -2.7923e+00, -5.8127e-02, -1.8151e+00, -4.9630e+00,\n",
       "          3.2198e+00,  4.3373e-01,  2.0912e+00,  1.0922e+01, -2.8705e+00],\n",
       "        [-4.4544e+00, -2.8114e+00, -4.8031e-02, -1.8255e+00, -4.9971e+00,\n",
       "          3.2343e+00,  4.3662e-01,  2.1220e+00,  1.0953e+01, -2.8771e+00],\n",
       "        [-4.4673e+00, -2.8184e+00, -3.9836e-02, -1.8212e+00, -5.0189e+00,\n",
       "          3.2366e+00,  4.4176e-01,  2.1339e+00,  1.0962e+01, -2.8793e+00],\n",
       "        [-4.4008e+00, -2.7890e+00, -9.0510e-02, -1.8351e+00, -4.9092e+00,\n",
       "          3.2881e+00,  4.2658e-01,  2.0558e+00,  1.0845e+01, -2.8638e+00],\n",
       "        [-4.6165e+00, -2.9086e+00,  3.5798e-02, -1.8664e+00, -5.2534e+00,\n",
       "          3.2672e+00,  4.6935e-01,  2.3127e+00,  1.1176e+01, -2.9212e+00],\n",
       "        [-4.6222e+00, -2.9124e+00,  3.9133e-02, -1.8644e+00, -5.2585e+00,\n",
       "          3.2692e+00,  4.6937e-01,  2.3164e+00,  1.1183e+01, -2.9241e+00]],\n",
       "       device='cuda:0', grad_fn=<AddmmBackward0>)"
      ]
     },
     "metadata": {},
     "execution_count": 25
    }
   ],
   "metadata": {}
  },
  {
   "cell_type": "code",
   "execution_count": 26,
   "source": [
    "torch.save(rnn.state_dict(),'lstm_kinect_train_test_bn.pkl')"
   ],
   "outputs": [],
   "metadata": {}
  },
  {
   "cell_type": "code",
   "execution_count": 27,
   "source": [
    "import matplotlib.pyplot as plt\r\n",
    "import matplotlib.ticker as ticker\r\n",
    "\r\n",
    "plt.figure()\r\n",
    "plt.plot(all_losses)"
   ],
   "outputs": [
    {
     "output_type": "execute_result",
     "data": {
      "text/plain": [
       "[<matplotlib.lines.Line2D at 0x24c022ae970>]"
      ]
     },
     "metadata": {},
     "execution_count": 27
    },
    {
     "output_type": "display_data",
     "data": {
      "image/png": "[encoded data removed]",
      "text/plain": [
       "<Figure size 432x288 with 1 Axes>"
      ]
     },
     "metadata": {
      "needs_background": "light"
     }
    }
   ],
   "metadata": {}
  },
  {
   "cell_type": "markdown",
   "source": [
    "### Testing"
   ],
   "metadata": {}
  },
  {
   "cell_type": "code",
   "execution_count": 28,
   "source": [
    "def test(flag):\r\n",
    "    if flag == 'train':\r\n",
    "        n = n_data_size_train\r\n",
    "    elif flag == 'test':\r\n",
    "        n = n_data_size_test   \r\n",
    "        \r\n",
    "    with torch.no_grad():\r\n",
    "        right = 0\r\n",
    "        for i in range(n):\r\n",
    "            category_tensor, inputs = randomTrainingExampleBatch(1,flag,i)\r\n",
    "            category = LABELS_KINECT[int(category_tensor[0])]\r\n",
    "            inputs = inputs.to(device)\r\n",
    "            output = rnn(inputs)\r\n",
    "            guess, guess_i = categoryFromOutput(output)\r\n",
    "            category_i = LABELS_KINECT.index(category)\r\n",
    "            if category_i == guess_i:\r\n",
    "                right+=1\r\n",
    "    print(flag,'accuracy',right/n)"
   ],
   "outputs": [],
   "metadata": {}
  },
  {
   "cell_type": "code",
   "execution_count": 29,
   "source": [
    "\r\n",
    "test('test')"
   ],
   "outputs": [
    {
     "output_type": "stream",
     "name": "stdout",
     "text": [
      "test accuracy 0.4\n"
     ]
    }
   ],
   "metadata": {}
  },
  {
   "cell_type": "code",
   "execution_count": 30,
   "source": [
    "test('train')"
   ],
   "outputs": [
    {
     "output_type": "stream",
     "name": "stdout",
     "text": [
      "train accuracy 0.7959183673469388\n"
     ]
    }
   ],
   "metadata": {}
  },
  {
   "cell_type": "code",
   "execution_count": 31,
   "source": [
    "# Keep track of correct guesses in a confusion matrix\r\n",
    "confusion = torch.zeros(n_categories, n_categories)\r\n",
    "n_confusion = n_data_size_test\r\n",
    "\r\n",
    "# Go through a bunch of examples and record which are correctly guessed\r\n",
    "for i in range(n_confusion):\r\n",
    "    category_tensor, inputs = randomTrainingExampleBatch(1,'test',i)\r\n",
    "    category = LABELS_KINECT[int(category_tensor[0])]\r\n",
    "    inputs = inputs.to(device)\r\n",
    "    output = rnn(inputs)\r\n",
    "    #print(\"output: \",output)\r\n",
    "    guess, guess_i = categoryFromOutput(output)\r\n",
    "    #print(\"i: \",i)\r\n",
    "    #print(\"guess: \",guess)\r\n",
    "    #print(\"guess_i: \",guess_i)\r\n",
    "    #print(\"category_i: \",category_i)\r\n",
    "    category_i = LABELS_KINECT.index(category)\r\n",
    "    confusion[category_i][guess_i] += 1\r\n",
    "     \r\n",
    "# Normalize by dividing every row by its sum\r\n",
    "for i in range(n_categories):\r\n",
    "    confusion[i] = confusion[i] / confusion[i].sum()\r\n",
    "\r\n",
    "# Set up plot\r\n",
    "fig = plt.figure()\r\n",
    "ax = fig.add_subplot(111)\r\n",
    "cax = ax.matshow(confusion.numpy())\r\n",
    "fig.colorbar(cax)\r\n",
    "\r\n",
    "# Set up axes\r\n",
    "ax.set_xticklabels([''] + LABELS_KINECT, rotation=90)\r\n",
    "ax.set_yticklabels([''] + LABELS_KINECT)\r\n",
    "\r\n",
    "# Force label at every tick\r\n",
    "ax.xaxis.set_major_locator(ticker.MultipleLocator(1))\r\n",
    "ax.yaxis.set_major_locator(ticker.MultipleLocator(1))\r\n",
    "\r\n",
    "# sphinx_gallery_thumbnail_number = 2\r\n",
    "plt.show()"
   ],
   "outputs": [
    {
     "output_type": "stream",
     "name": "stderr",
     "text": [
      "C:\\Users\\anush\\AppData\\Local\\Temp/ipykernel_21844/1325638114.py:31: UserWarning: FixedFormatter should only be used together with FixedLocator\n",
      "  ax.set_xticklabels([''] + LABELS_KINECT, rotation=90)\n",
      "C:\\Users\\anush\\AppData\\Local\\Temp/ipykernel_21844/1325638114.py:32: UserWarning: FixedFormatter should only be used together with FixedLocator\n",
      "  ax.set_yticklabels([''] + LABELS_KINECT)\n"
     ]
    },
    {
     "output_type": "display_data",
     "data": {
      "image/png": "[encoded data removed]",
      "text/plain": [
       "<Figure size 432x288 with 2 Axes>"
      ]
     },
     "metadata": {
      "needs_background": "light"
     }
    }
   ],
   "metadata": {
    "scrolled": true
   }
  },
  {
   "cell_type": "markdown",
   "source": [
    "1. Loss : Cross Entropy Loss\r\n",
    "2. Batch size: 128\r\n",
    "3. Batch size for every label: 32\r\n",
    "4. Randomly the 128-size batch is chosen from input and sent to the model\r\n",
    "5. SGD is the optimizer"
   ],
   "metadata": {}
  }
 ],
 "metadata": {
  "kernelspec": {
   "name": "python3",
   "display_name": "Python 3.8.12 64-bit ('pytorch_1.10': conda)"
  },
  "language_info": {
   "codemirror_mode": {
    "name": "ipython",
    "version": 3
   },
   "file_extension": ".py",
   "mimetype": "text/x-python",
   "name": "python",
   "nbconvert_exporter": "python",
   "pygments_lexer": "ipython3",
   "version": "3.8.12"
  },
  "interpreter": {
   "hash": "f79c4191b31cbc4c34645e81c3dab985eed398b61f8efd95fc210086e5c47c3d"
  }
 },
 "nbformat": 4,
 "nbformat_minor": 2
}